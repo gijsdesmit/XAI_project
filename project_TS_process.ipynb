{
 "cells": [
  {
   "cell_type": "markdown",
   "source": [
    "Notebook to process the data from the AF-Raw-Data folder into a single csv file"
   ],
   "metadata": {
    "collapsed": false
   },
   "id": "f84e6162264ae957"
  },
  {
   "cell_type": "code",
   "outputs": [],
   "source": [
    "import pandas as pd\n",
    "import glob\n",
    "import os\n",
    "import matplotlib.pyplot as plt\n",
    "from tqdm import tqdm\n",
    "\n",
    "path_data = 'data/AF-Raw-Data/AF Data/ECG_data'\n",
    "path_class = 'data/AF-Raw-Data/AF Data/Class'\n",
    "\n",
    "data_files = glob.glob(os.path.join(path_data, 'Data*'))\n",
    "class_files = glob.glob(os.path.join(path_class, 'Control*'))\n",
    "\n",
    "#sort the files alphabetically\n",
    "data_files.sort()\n",
    "class_files.sort()\n",
    "\n",
    "# custom function to handle the inconsistent fields\n",
    "def custom_parser(row):\n",
    "    parts = row.split()\n",
    "    time = parts[0]\n",
    "    value = parts[1] #R-R interval value in ms\n",
    "    letter = parts[2] \n",
    "    description = ' '.join(parts[3:])\n",
    "    return pd.Series([time, value, letter, description])\n",
    "\n",
    "def process_data_file(data_filename):\n",
    "    df_ = pd.read_csv(data_filename, sep='\\x1e', header=None, names=['Row']) #read everything as a single column\n",
    "    df_ = df_['Row'].apply(custom_parser)\n",
    "    df_.columns = ['Time', 'Value', 'Letter', 'Description']\n",
    "    df_['Time'] = pd.to_datetime(df_['Time'], format='%H:%M:%S')\n",
    "    df_['Value'] = pd.to_numeric(df_['Value'], errors='coerce')\n",
    "    return df_\n",
    "\n",
    "def process_control_file(control_filename):\n",
    "    df_ = pd.read_csv(control_filename, header=None, names=['Time', 'Label'], sep='\\s+', engine='python')\n",
    "    df_['Time'] = pd.to_datetime(df_['Time'], format='%H:%M:%S:%f')\n",
    "    return df_"
   ],
   "metadata": {
    "collapsed": false,
    "ExecuteTime": {
     "end_time": "2024-04-09T10:51:58.108336100Z",
     "start_time": "2024-04-09T10:51:58.066115100Z"
    }
   },
   "id": "f0aa1557594f5b57",
   "execution_count": 1
  },
  {
   "cell_type": "code",
   "outputs": [
    {
     "name": "stdout",
     "output_type": "stream",
     "text": [
      "Correct: 804\n"
     ]
    }
   ],
   "source": [
    "# Check if the data and class files are in the same order\n",
    "correct = 0\n",
    "numbers = ['1', '2', '3', '4', '5', '6', '7', '8', '9', '0']\n",
    "#Loop through all file pairs\n",
    "for data_file, class_file in zip(data_files, class_files):\n",
    "    # Remove all letters and keep only numbers in the strings\n",
    "    data_file_number = ''.join([i for i in data_file if i in numbers])\n",
    "    class_file_number = ''.join([i for i in class_file if i in numbers])\n",
    "    #convert to int and compare\n",
    "    data_file_number = int(data_file_number)\n",
    "    class_file_number = int(class_file_number)\n",
    "    \n",
    "    \n",
    "    if data_file_number != class_file_number:\n",
    "        print(f'{data_file_number} != {class_file_number}')\n",
    "    \n",
    "        #print(f'{data_file_number} == {class_file_number}')\n",
    "    elif data_file_number == class_file_number:\n",
    "        correct += 1\n",
    "\n",
    "print(f'Correct: {correct}')"
   ],
   "metadata": {
    "collapsed": false,
    "ExecuteTime": {
     "end_time": "2024-04-09T10:51:58.119369200Z",
     "start_time": "2024-04-09T10:51:58.107337400Z"
    }
   },
   "id": "93b72d30ba5d66ee",
   "execution_count": 2
  },
  {
   "cell_type": "code",
   "outputs": [
    {
     "name": "stderr",
     "output_type": "stream",
     "text": [
      "Processing Files:  31%|███       | 250/804 [03:46<44:10,  4.78s/it]  "
     ]
    },
    {
     "name": "stdout",
     "output_type": "stream",
     "text": [
      "Saved 200 250\n"
     ]
    },
    {
     "name": "stderr",
     "output_type": "stream",
     "text": [
      "Processing Files:  37%|███▋      | 300/804 [07:48<45:08,  5.37s/it]"
     ]
    },
    {
     "name": "stdout",
     "output_type": "stream",
     "text": [
      "Saved 250 300\n"
     ]
    },
    {
     "name": "stderr",
     "output_type": "stream",
     "text": [
      "Processing Files:  44%|████▎     | 350/804 [12:02<55:17,  7.31s/it]"
     ]
    },
    {
     "name": "stdout",
     "output_type": "stream",
     "text": [
      "Saved 300 350\n"
     ]
    },
    {
     "name": "stderr",
     "output_type": "stream",
     "text": [
      "Processing Files:  50%|████▉     | 400/804 [15:45<25:41,  3.82s/it]"
     ]
    },
    {
     "name": "stdout",
     "output_type": "stream",
     "text": [
      "Saved 350 400\n"
     ]
    },
    {
     "name": "stderr",
     "output_type": "stream",
     "text": [
      "Processing Files:  56%|█████▌    | 450/804 [20:07<34:09,  5.79s/it]"
     ]
    },
    {
     "name": "stdout",
     "output_type": "stream",
     "text": [
      "Saved 400 450\n"
     ]
    },
    {
     "name": "stderr",
     "output_type": "stream",
     "text": [
      "Processing Files:  62%|██████▏   | 500/804 [24:04<40:41,  8.03s/it]"
     ]
    },
    {
     "name": "stdout",
     "output_type": "stream",
     "text": [
      "Saved 450 500\n"
     ]
    },
    {
     "name": "stderr",
     "output_type": "stream",
     "text": [
      "Processing Files:  68%|██████▊   | 550/804 [28:36<27:09,  6.42s/it]"
     ]
    },
    {
     "name": "stdout",
     "output_type": "stream",
     "text": [
      "Saved 500 550\n"
     ]
    },
    {
     "name": "stderr",
     "output_type": "stream",
     "text": [
      "Processing Files:  75%|███████▍  | 600/804 [32:52<13:55,  4.10s/it]"
     ]
    },
    {
     "name": "stdout",
     "output_type": "stream",
     "text": [
      "Saved 550 600\n"
     ]
    },
    {
     "name": "stderr",
     "output_type": "stream",
     "text": [
      "Processing Files:  81%|████████  | 650/804 [37:14<12:25,  4.84s/it]"
     ]
    },
    {
     "name": "stdout",
     "output_type": "stream",
     "text": [
      "Saved 600 650\n"
     ]
    },
    {
     "name": "stderr",
     "output_type": "stream",
     "text": [
      "Processing Files:  87%|████████▋ | 700/804 [40:39<09:22,  5.41s/it]"
     ]
    },
    {
     "name": "stdout",
     "output_type": "stream",
     "text": [
      "Saved 650 700\n"
     ]
    },
    {
     "name": "stderr",
     "output_type": "stream",
     "text": [
      "Processing Files:  93%|█████████▎| 750/804 [44:33<06:02,  6.71s/it]"
     ]
    },
    {
     "name": "stdout",
     "output_type": "stream",
     "text": [
      "Saved 700 750\n"
     ]
    },
    {
     "name": "stderr",
     "output_type": "stream",
     "text": [
      "Processing Files: 100%|█████████▉| 800/804 [48:18<00:17,  4.32s/it]"
     ]
    },
    {
     "name": "stdout",
     "output_type": "stream",
     "text": [
      "Saved 750 800\n"
     ]
    },
    {
     "name": "stderr",
     "output_type": "stream",
     "text": [
      "Processing Files: 100%|██████████| 804/804 [48:34<00:00,  3.62s/it]"
     ]
    },
    {
     "name": "stdout",
     "output_type": "stream",
     "text": [
      "#Discarded samples: 18572\n",
      "#samples: 7760\n"
     ]
    },
    {
     "name": "stderr",
     "output_type": "stream",
     "text": [
      "\n"
     ]
    }
   ],
   "source": [
    "### OPTION WITH JOIN\n",
    "\n",
    "windows_size = 40\n",
    "columns = [f's_{i}' for i in range(windows_size)] + ['Class_Label']\n",
    "data_samples_list = []\n",
    "n_discard = 0\n",
    "n = 0\n",
    "\n",
    "for data_file, class_file in tqdm(zip(data_files, class_files), total=len(data_files), desc=\"Processing Files\"):\n",
    "    n += 1\n",
    "    \n",
    "    data_df = process_data_file(data_file).drop(columns=['Letter', 'Description'])\n",
    "    control_df = process_control_file(class_file)\n",
    "\n",
    "    joined_df = data_df.merge(control_df, on='Time', how='left') # Join the data and control dataframes, on time column but keep all rows from data_df\n",
    "    joined_df['Label'] = joined_df['Label'].ffill() # repeat the label for all rows in the window\n",
    "\n",
    "    # divide joined_df into windows of size 45 and make new dataframe where each row is a window\n",
    "    for i in range(0, len(joined_df), windows_size):\n",
    "        window_data = joined_df.iloc[i:i + windows_size]\n",
    "\n",
    "        # label is majority vote of the window unless there's a NaN or -1, then we discard the window\n",
    "        if -1 in window_data['Label'].values or window_data['Label'].isnull().any():\n",
    "            n_discard += 1\n",
    "            continue\n",
    "        label = window_data['Label'].mode().iloc[0]\n",
    "\n",
    "        window_data = window_data.drop(columns=['Label'])\n",
    "        if len(window_data) == windows_size:\n",
    "            row_data = window_data['Value'].tolist() + [label]\n",
    "            data_samples_list.append(row_data)\n",
    "        else:\n",
    "            n_discard += 1\n",
    "            \n",
    "    #save the data every 50 files\n",
    "    if n % 50 == 0:\n",
    "        data_samples = pd.DataFrame(data_samples_list, columns=columns)\n",
    "        data_samples.to_csv(f'data/AF-Raw-Data/AF Data/data_samples_40_{n-50}-{n}.csv', index=False)\n",
    "        data_samples_list = []\n",
    "        print('Saved', n-50, n)\n",
    "    \n",
    "\n",
    "data_samples = pd.DataFrame(data_samples_list, columns=columns)\n",
    "print(f'#Discarded samples: {n_discard}')\n",
    "print(f'#samples: {len(data_samples)}')\n",
    "\n",
    "data_samples.to_csv('data/AF-Raw-Data/AF Data/data_samples_40_last.csv', index=False)"
   ],
   "metadata": {
    "collapsed": false,
    "ExecuteTime": {
     "end_time": "2024-04-09T11:41:25.452580100Z",
     "start_time": "2024-04-09T10:52:51.134277700Z"
    }
   },
   "id": "cfa3ad052d3190dc",
   "execution_count": 3
  },
  {
   "cell_type": "code",
   "outputs": [
    {
     "data": {
      "text/plain": "       s_0   s_1   s_2   s_3   s_4   s_5   s_6   s_7   s_8   s_9  ...  s_31  \\\n0     5000  5000  5000  5000  5000  5000  5000  5000  5000  5000  ...  5000   \n1     5000  5000  5000  5000  5000  5000  5000  5000  5000  5000  ...  5000   \n2     5000  5000  5000  5000  5000  5000  5000  5000  5000  5000  ...  5000   \n3     5000  5000  5000  5000  5000  5000  5000  5000  5000  5000  ...  5000   \n4      480   265   305   600   490   270   645   950   230  5000  ...   240   \n...    ...   ...   ...   ...   ...   ...   ...   ...   ...   ...  ...   ...   \n7755   710   700   710   710   715   715   720   710   720   720  ...   705   \n7756   720   735   730   730   730   725   725   725   720   715  ...   710   \n7757   710   710   705   705   710   705   700   700   715   705  ...   715   \n7758   730   725   720   720   730   715   715   720   715   725  ...   720   \n7759   705   715   705   705   715   710   705   710   700   700  ...   695   \n\n      s_32  s_33  s_34  s_35  s_36  s_37  s_38  s_39  Class_Label  \n0     5000  5000  5000  5000  5000  5000  5000  5000          0.0  \n1     5000  5000  5000  5000  5000  5000  5000  5000          0.0  \n2     5000  5000  5000  5000  5000  5000  5000  5000          0.0  \n3     5000  5000  5000  4425   365   325   255   500          0.0  \n4      350   430   235   295   415   280   330  1425          0.0  \n...    ...   ...   ...   ...   ...   ...   ...   ...          ...  \n7755   720   700   720   720   725   725   725   730          0.0  \n7756   710   720   710   720   715   715   705   720          0.0  \n7757   725   715   720   720   725   715   730   725          0.0  \n7758   715   705   715   715   705   715   705   710          0.0  \n7759   685   675   685   695   690   685   685   700          0.0  \n\n[7760 rows x 41 columns]",
      "text/html": "<div>\n<style scoped>\n    .dataframe tbody tr th:only-of-type {\n        vertical-align: middle;\n    }\n\n    .dataframe tbody tr th {\n        vertical-align: top;\n    }\n\n    .dataframe thead th {\n        text-align: right;\n    }\n</style>\n<table border=\"1\" class=\"dataframe\">\n  <thead>\n    <tr style=\"text-align: right;\">\n      <th></th>\n      <th>s_0</th>\n      <th>s_1</th>\n      <th>s_2</th>\n      <th>s_3</th>\n      <th>s_4</th>\n      <th>s_5</th>\n      <th>s_6</th>\n      <th>s_7</th>\n      <th>s_8</th>\n      <th>s_9</th>\n      <th>...</th>\n      <th>s_31</th>\n      <th>s_32</th>\n      <th>s_33</th>\n      <th>s_34</th>\n      <th>s_35</th>\n      <th>s_36</th>\n      <th>s_37</th>\n      <th>s_38</th>\n      <th>s_39</th>\n      <th>Class_Label</th>\n    </tr>\n  </thead>\n  <tbody>\n    <tr>\n      <th>0</th>\n      <td>5000</td>\n      <td>5000</td>\n      <td>5000</td>\n      <td>5000</td>\n      <td>5000</td>\n      <td>5000</td>\n      <td>5000</td>\n      <td>5000</td>\n      <td>5000</td>\n      <td>5000</td>\n      <td>...</td>\n      <td>5000</td>\n      <td>5000</td>\n      <td>5000</td>\n      <td>5000</td>\n      <td>5000</td>\n      <td>5000</td>\n      <td>5000</td>\n      <td>5000</td>\n      <td>5000</td>\n      <td>0.0</td>\n    </tr>\n    <tr>\n      <th>1</th>\n      <td>5000</td>\n      <td>5000</td>\n      <td>5000</td>\n      <td>5000</td>\n      <td>5000</td>\n      <td>5000</td>\n      <td>5000</td>\n      <td>5000</td>\n      <td>5000</td>\n      <td>5000</td>\n      <td>...</td>\n      <td>5000</td>\n      <td>5000</td>\n      <td>5000</td>\n      <td>5000</td>\n      <td>5000</td>\n      <td>5000</td>\n      <td>5000</td>\n      <td>5000</td>\n      <td>5000</td>\n      <td>0.0</td>\n    </tr>\n    <tr>\n      <th>2</th>\n      <td>5000</td>\n      <td>5000</td>\n      <td>5000</td>\n      <td>5000</td>\n      <td>5000</td>\n      <td>5000</td>\n      <td>5000</td>\n      <td>5000</td>\n      <td>5000</td>\n      <td>5000</td>\n      <td>...</td>\n      <td>5000</td>\n      <td>5000</td>\n      <td>5000</td>\n      <td>5000</td>\n      <td>5000</td>\n      <td>5000</td>\n      <td>5000</td>\n      <td>5000</td>\n      <td>5000</td>\n      <td>0.0</td>\n    </tr>\n    <tr>\n      <th>3</th>\n      <td>5000</td>\n      <td>5000</td>\n      <td>5000</td>\n      <td>5000</td>\n      <td>5000</td>\n      <td>5000</td>\n      <td>5000</td>\n      <td>5000</td>\n      <td>5000</td>\n      <td>5000</td>\n      <td>...</td>\n      <td>5000</td>\n      <td>5000</td>\n      <td>5000</td>\n      <td>5000</td>\n      <td>4425</td>\n      <td>365</td>\n      <td>325</td>\n      <td>255</td>\n      <td>500</td>\n      <td>0.0</td>\n    </tr>\n    <tr>\n      <th>4</th>\n      <td>480</td>\n      <td>265</td>\n      <td>305</td>\n      <td>600</td>\n      <td>490</td>\n      <td>270</td>\n      <td>645</td>\n      <td>950</td>\n      <td>230</td>\n      <td>5000</td>\n      <td>...</td>\n      <td>240</td>\n      <td>350</td>\n      <td>430</td>\n      <td>235</td>\n      <td>295</td>\n      <td>415</td>\n      <td>280</td>\n      <td>330</td>\n      <td>1425</td>\n      <td>0.0</td>\n    </tr>\n    <tr>\n      <th>...</th>\n      <td>...</td>\n      <td>...</td>\n      <td>...</td>\n      <td>...</td>\n      <td>...</td>\n      <td>...</td>\n      <td>...</td>\n      <td>...</td>\n      <td>...</td>\n      <td>...</td>\n      <td>...</td>\n      <td>...</td>\n      <td>...</td>\n      <td>...</td>\n      <td>...</td>\n      <td>...</td>\n      <td>...</td>\n      <td>...</td>\n      <td>...</td>\n      <td>...</td>\n      <td>...</td>\n    </tr>\n    <tr>\n      <th>7755</th>\n      <td>710</td>\n      <td>700</td>\n      <td>710</td>\n      <td>710</td>\n      <td>715</td>\n      <td>715</td>\n      <td>720</td>\n      <td>710</td>\n      <td>720</td>\n      <td>720</td>\n      <td>...</td>\n      <td>705</td>\n      <td>720</td>\n      <td>700</td>\n      <td>720</td>\n      <td>720</td>\n      <td>725</td>\n      <td>725</td>\n      <td>725</td>\n      <td>730</td>\n      <td>0.0</td>\n    </tr>\n    <tr>\n      <th>7756</th>\n      <td>720</td>\n      <td>735</td>\n      <td>730</td>\n      <td>730</td>\n      <td>730</td>\n      <td>725</td>\n      <td>725</td>\n      <td>725</td>\n      <td>720</td>\n      <td>715</td>\n      <td>...</td>\n      <td>710</td>\n      <td>710</td>\n      <td>720</td>\n      <td>710</td>\n      <td>720</td>\n      <td>715</td>\n      <td>715</td>\n      <td>705</td>\n      <td>720</td>\n      <td>0.0</td>\n    </tr>\n    <tr>\n      <th>7757</th>\n      <td>710</td>\n      <td>710</td>\n      <td>705</td>\n      <td>705</td>\n      <td>710</td>\n      <td>705</td>\n      <td>700</td>\n      <td>700</td>\n      <td>715</td>\n      <td>705</td>\n      <td>...</td>\n      <td>715</td>\n      <td>725</td>\n      <td>715</td>\n      <td>720</td>\n      <td>720</td>\n      <td>725</td>\n      <td>715</td>\n      <td>730</td>\n      <td>725</td>\n      <td>0.0</td>\n    </tr>\n    <tr>\n      <th>7758</th>\n      <td>730</td>\n      <td>725</td>\n      <td>720</td>\n      <td>720</td>\n      <td>730</td>\n      <td>715</td>\n      <td>715</td>\n      <td>720</td>\n      <td>715</td>\n      <td>725</td>\n      <td>...</td>\n      <td>720</td>\n      <td>715</td>\n      <td>705</td>\n      <td>715</td>\n      <td>715</td>\n      <td>705</td>\n      <td>715</td>\n      <td>705</td>\n      <td>710</td>\n      <td>0.0</td>\n    </tr>\n    <tr>\n      <th>7759</th>\n      <td>705</td>\n      <td>715</td>\n      <td>705</td>\n      <td>705</td>\n      <td>715</td>\n      <td>710</td>\n      <td>705</td>\n      <td>710</td>\n      <td>700</td>\n      <td>700</td>\n      <td>...</td>\n      <td>695</td>\n      <td>685</td>\n      <td>675</td>\n      <td>685</td>\n      <td>695</td>\n      <td>690</td>\n      <td>685</td>\n      <td>685</td>\n      <td>700</td>\n      <td>0.0</td>\n    </tr>\n  </tbody>\n</table>\n<p>7760 rows × 41 columns</p>\n</div>"
     },
     "execution_count": 4,
     "metadata": {},
     "output_type": "execute_result"
    }
   ],
   "source": [
    "data_samples"
   ],
   "metadata": {
    "collapsed": false,
    "ExecuteTime": {
     "end_time": "2024-04-09T11:42:52.116221500Z",
     "start_time": "2024-04-09T11:42:52.079789900Z"
    }
   },
   "id": "99e767840458488f",
   "execution_count": 4
  },
  {
   "cell_type": "code",
   "outputs": [
    {
     "name": "stdout",
     "output_type": "stream",
     "text": [
      "1728431\n"
     ]
    }
   ],
   "source": [
    "# concatenate all the files into one dataframe\n",
    "# load in the following files:\n",
    "\n",
    "filepath = 'data/AF-Raw-Data/AF Data/'\n",
    "files_ = ['data_samples_40_200-250.csv', 'data_samples_40_250-300.csv', 'data_samples_40_300-350.csv', 'data_samples_40_350-400.csv', 'data_samples_40_400-450.csv', 'data_samples_40_450-500.csv', 'data_samples_40_500-550.csv', 'data_samples_40_550-600.csv', 'data_samples_40_600-650.csv', 'data_samples_40_650-700.csv', 'data_samples_40_700-750.csv', 'data_samples_40_750-800.csv', 'data_samples_40_last.csv']\n",
    "\n",
    "new_df = pd.read_csv(filepath + 'data_samples_40_200.csv')\n",
    "\n",
    "# concate all the files\n",
    "for f in files_:\n",
    "    df = pd.read_csv(filepath + f)\n",
    "    new_df = pd.concat([new_df, df], ignore_index=True)\n",
    "    \n",
    "print(len(new_df))\n",
    "new_df.to_csv(filepath + 'data_samples_40_all_.csv', index=False)"
   ],
   "metadata": {
    "collapsed": false,
    "ExecuteTime": {
     "end_time": "2024-04-09T11:49:49.402883500Z",
     "start_time": "2024-04-09T11:49:34.660003900Z"
    }
   },
   "id": "9b84d4d2043d9c89",
   "execution_count": 11
  },
  {
   "cell_type": "code",
   "outputs": [],
   "source": [],
   "metadata": {
    "collapsed": false
   },
   "id": "54fc2d2261b8e876"
  }
 ],
 "metadata": {
  "kernelspec": {
   "display_name": "Python 3",
   "language": "python",
   "name": "python3"
  },
  "language_info": {
   "codemirror_mode": {
    "name": "ipython",
    "version": 2
   },
   "file_extension": ".py",
   "mimetype": "text/x-python",
   "name": "python",
   "nbconvert_exporter": "python",
   "pygments_lexer": "ipython2",
   "version": "2.7.6"
  }
 },
 "nbformat": 4,
 "nbformat_minor": 5
}
